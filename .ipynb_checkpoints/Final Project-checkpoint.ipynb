{
 "cells": [
  {
   "cell_type": "markdown",
   "metadata": {},
   "source": [
    "# Analysis of Birth Rates for Unmarried Women\n",
    ">### Written by Brandon Daniel\n",
    "\n",
    "***\n",
    "## What is this Notebook?\n",
    "We will learn about the  _National Center for Health Statistic's (NCHS)_ dataset as published by the _Centers for Disease Control and Prevenetion (CDC)_ on _Birth Rates for Unmarried Women_.  The purpose of this notebook is as follows...\n",
    " 1. Inquire to how Birth Rates have changed over time. \n",
    " 2. Does race play a role in determination of birth rates?  \n",
    " 3. Does age play an integral part in the analysis of observed birth rates?\n",
    " 4. Are there similarities between specific races' birth rates? \n",
    " 5. Does there exist periods where birth rates drop drastically?\n",
    " 6. Is there statistically significant evidence to support all of the above claims?\n",
    "\n",
    "Listed below are the links to the core sections of this Notebook.\n",
    "> - [Utilized Resources](#packages)\n",
    "> - [NCHS Dataset](#Dataset)\n",
    "> - [Data Tidying](#Tidy)\n",
    "> - [Imputation by Machine Learning](#learn)\n",
    "> - [Exploratory Analysis](#explore)\n",
    ">  - [Age-Range Analysis](#age)\n",
    ">  - [Race Analysis](#race)\n",
    "> - [Insights](#conclusion)\n",
    "\n",
    "\n",
    "***"
   ]
  },
  {
   "cell_type": "markdown",
   "metadata": {},
   "source": [
    "## <a id=\"packages\">Python Modules</a>\n",
    "`Below are the essential modules needed in order to reproduce all calculations that I will be performing throughout this Notebook. For more information about these modules, please consult their respective documentation sites.`"
   ]
  },
  {
   "cell_type": "code",
   "execution_count": 33,
   "metadata": {
    "collapsed": true
   },
   "outputs": [],
   "source": [
    "%matplotlib inline\n",
    "import numpy as np\n",
    "import pandas\n",
    "import seaborn as sb\n",
    "from sklearn.linear_model import LinearRegression\n",
    "import matplotlib.pyplot as plt\n",
    "from scipy.stats import sem\n",
    "from sklearn.metrics import r2_score\n",
    "from statsmodels.stats.multicomp import MultiComparison\n",
    "from scipy import stats\n",
    "from statsmodels.stats.weightstats import ttest_ind"
   ]
  },
  {
   "cell_type": "markdown",
   "metadata": {
    "collapsed": true
   },
   "source": [
    "## <a id=\"Dataset\">Data Acquisition</a> \n",
    "For this notebook, we will be acquiring the data from the __[Data.gov Catalog.](https://catalog.data.gov/dataset/nonmarital-birth-rates-by-race-and-hispanic-origin-for-women-aged-15-44-united-states-1970)__ Before continuing with our analysis, it is important for us recognize an important feature about the dataset.  As stated in the overview on the data.gov site, \"National data on births by Hispanics' origin exclude data for Louisiana, New Hampshire, and Oklahoma in 1989; for New Hampshire and Oklahoma in 1990; for New Hampshire in 1991 and 1992.\" These entries will be consider to be [Not Missing at Random (NMAR)](https://datascience.foundation/datatalk/methods-for-dealing-with-missing-values-in-datasets). We need to keep this information in mind as we analyze the visualizations for those respective years."
   ]
  },
  {
   "cell_type": "code",
   "execution_count": 34,
   "metadata": {},
   "outputs": [
    {
     "data": {
      "text/html": [
       "<div>\n",
       "<table border=\"1\" class=\"dataframe\">\n",
       "  <thead>\n",
       "    <tr style=\"text-align: right;\">\n",
       "      <th></th>\n",
       "      <th>Year</th>\n",
       "      <th>Age Group</th>\n",
       "      <th>Race or Hispanic Origin</th>\n",
       "      <th>Birth Rate</th>\n",
       "    </tr>\n",
       "  </thead>\n",
       "  <tbody>\n",
       "    <tr>\n",
       "      <th>0</th>\n",
       "      <td>2015</td>\n",
       "      <td>15-19 years</td>\n",
       "      <td>All Races</td>\n",
       "      <td>20.2</td>\n",
       "    </tr>\n",
       "    <tr>\n",
       "      <th>1</th>\n",
       "      <td>2015</td>\n",
       "      <td>15-19 years</td>\n",
       "      <td>Asian or Pacific Islander total</td>\n",
       "      <td>5.5</td>\n",
       "    </tr>\n",
       "    <tr>\n",
       "      <th>2</th>\n",
       "      <td>2015</td>\n",
       "      <td>15-19 years</td>\n",
       "      <td>Black total</td>\n",
       "      <td>31.5</td>\n",
       "    </tr>\n",
       "    <tr>\n",
       "      <th>3</th>\n",
       "      <td>2015</td>\n",
       "      <td>15-19 years</td>\n",
       "      <td>Hispanic</td>\n",
       "      <td>31.6</td>\n",
       "    </tr>\n",
       "    <tr>\n",
       "      <th>4</th>\n",
       "      <td>2015</td>\n",
       "      <td>15-19 years</td>\n",
       "      <td>Non-Hispanic white</td>\n",
       "      <td>13.9</td>\n",
       "    </tr>\n",
       "  </tbody>\n",
       "</table>\n",
       "</div>"
      ],
      "text/plain": [
       "   Year    Age Group          Race or Hispanic Origin  Birth Rate\n",
       "0  2015  15-19 years                        All Races        20.2\n",
       "1  2015  15-19 years  Asian or Pacific Islander total         5.5\n",
       "2  2015  15-19 years                      Black total        31.5\n",
       "3  2015  15-19 years                         Hispanic        31.6\n",
       "4  2015  15-19 years               Non-Hispanic white        13.9"
      ]
     },
     "execution_count": 34,
     "metadata": {},
     "output_type": "execute_result"
    }
   ],
   "source": [
    "birth_rates = pandas.read_csv('Birth_Rates_for_Unmarried_Women.csv')\n",
    "birth_rates.head()"
   ]
  },
  {
   "cell_type": "markdown",
   "metadata": {},
   "source": [
    "As shown above, we see that the raw dataset obtained by the data.gov catalog is broken up into four features.\n",
    "1. Year: The year of the oberservation.\n",
    "2. Age Group: The age range of individuals who were questioned for this experiment.\n",
    "3. Race or Hispanic Origin: The race / origin or race obtained by mother.\n",
    "4. Birth Rate: number of live births per thousand of population for the current year.\n",
    "\n",
    "***\n"
   ]
  },
  {
   "cell_type": "markdown",
   "metadata": {
    "collapsed": true
   },
   "source": [
    "## <a id=\"Tidy\">Data Tidying</a> \n",
    "We will begin by making some changes to the data in order to more easily facilitate future operations on our dataframe.  First off, the larger concern is to check if any entries within our dataset are missing or do not conform to the expected type.  For example, a birthrate should be a number but there could have been cells set to 'NaN' for that year as eluded to in the note for this dataset. Then, we will make small changes to the dataframe to promote clean and descriptive labeling."
   ]
  },
  {
   "cell_type": "code",
   "execution_count": 35,
   "metadata": {},
   "outputs": [
    {
     "name": "stdout",
     "output_type": "stream",
     "text": [
      "There are 19 NaN values in the dataframe.\n"
     ]
    }
   ],
   "source": [
    "# check for NaN values in our dataset\n",
    "print('There are {} NaN values in the dataframe.'.format(birth_rates.isnull().sum().sum()))"
   ]
  },
  {
   "cell_type": "markdown",
   "metadata": {},
   "source": [
    "The output above clearly states that multiple cells have NaN values. Lets begin exploring where these NaN values are and determine the best way to handle these entries.  We will start by figuring out which columns are the culprits."
   ]
  },
  {
   "cell_type": "code",
   "execution_count": 36,
   "metadata": {},
   "outputs": [
    {
     "data": {
      "text/plain": [
       "Year                       False\n",
       "Age Group                  False\n",
       "Race or Hispanic Origin    False\n",
       "Birth Rate                  True\n",
       "dtype: bool"
      ]
     },
     "execution_count": 36,
     "metadata": {},
     "output_type": "execute_result"
    }
   ],
   "source": [
    "birth_rates.isnull().any()"
   ]
  },
  {
   "cell_type": "markdown",
   "metadata": {},
   "source": [
    "The output above tells us that the \"Year\", \"Age Group\", and \"Race or Hispanic Origin\" columns do not contain any NaN values.  The Birth Rate column, on the other hand, contains all of our NaN values.  This may be a result of the exlusions in the data as stated in both the [NCHS Dataset](#Dataset) section of the notebook and on the __[Data.gov Catalog website](https://catalog.data.gov/dataset/nonmarital-birth-rates-by-race-and-hispanic-origin-for-women-aged-15-44-united-states-1970)__."
   ]
  },
  {
   "cell_type": "code",
   "execution_count": 37,
   "metadata": {},
   "outputs": [
    {
     "data": {
      "text/plain": [
       "<matplotlib.text.Text at 0x7f12700ee0f0>"
      ]
     },
     "execution_count": 37,
     "metadata": {},
     "output_type": "execute_result"
    },
    {
     "data": {
      "image/png": "[encoded data removed]",
      "text/plain": [
       "<matplotlib.figure.Figure at 0x7f127013f780>"
      ]
     },
     "metadata": {},
     "output_type": "display_data"
    }
   ],
   "source": [
    "# grab the indicies where there is a NaN value\n",
    "indicies = birth_rates['Birth Rate'].index[birth_rates['Birth Rate'].apply(np.isnan)]\n",
    "NaN_values = birth_rates.iloc[indicies]\n",
    "NaN_by_year = NaN_values['Year'].value_counts()\n",
    "\n",
    "#plot the number of NaN per year\n",
    "plot_features = sb.barplot(x=NaN_by_year.index, y= NaN_by_year.values)\n",
    "plot_features.set_title('Missing Birth Rate Cells')\n",
    "plot_features.set_xlabel('Year')\n",
    "plot_features.set_ylabel('Number of NaNs')"
   ]
  },
  {
   "cell_type": "markdown",
   "metadata": {},
   "source": [
    "All of the NaN values happen to occur between 1990 and 1993, with the most impact on years 1991 to 1993. Simply dropping these rows would have too large of an impact on our early 90s variance. We can now ask whether there are some similarities in the race of the groups with missing birth rates."
   ]
  },
  {
   "cell_type": "code",
   "execution_count": 38,
   "metadata": {},
   "outputs": [
    {
     "data": {
      "text/plain": [
       "<matplotlib.text.Text at 0x7f1270019eb8>"
      ]
     },
     "execution_count": 38,
     "metadata": {},
     "output_type": "execute_result"
    },
    {
     "data": {
      "image/png": "[encoded data removed]",
      "text/plain": [
       "<matplotlib.figure.Figure at 0x7f1272aa4fd0>"
      ]
     },
     "metadata": {},
     "output_type": "display_data"
    }
   ],
   "source": [
    "# extract number of NaNs per race and plot\n",
    "NaN_races = NaN_values['Race or Hispanic Origin'].value_counts()\n",
    "races = birth_rates['Race or Hispanic Origin'].value_counts().index\n",
    "NaN_values = list()\n",
    "races_df = pandas.DataFrame()\n",
    "races_df['race'] = races\n",
    "\n",
    "for r in races:\n",
    "    if r not in NaN_races:\n",
    "        NaN_values.append(0)\n",
    "    else:\n",
    "        NaN_values.append(NaN_races[r])\n",
    "\n",
    "races_df['NaN_count'] = NaN_values\n",
    "\n",
    "# plt number of NaN values per race/origin\n",
    "plt.figure(figsize=(10,6))\n",
    "ax = sb.barplot(x='race', y='NaN_count', data=races_df,palette=\"Blues_d\")\n",
    "ax.set_yticks([5, 10, 15, 20])\n",
    "ax.set_title('Missing Birth Rates by Race')\n",
    "ax.set_xlabel('Race')\n",
    "ax.set_ylabel('Number Missing')"
   ]
  },
  {
   "cell_type": "markdown",
   "metadata": {},
   "source": [
    "From the above plot of number of NaN values for each race, we can see that Non-Hispanic White is the only category that has NaN values.  To avoid the loss of this large chunk of data, we can perform an imputation on the missing fields by  using a linear model over the age ranges.  Before using this though, we need to ensure that the model will be able to provide a good estimate for these values by computing the [Coefficient of Determination](https://en.wikipedia.org/wiki/Coefficient_of_determination) and then performing a [K-Fold Cross-Validation](https://www.openml.org/a/estimation-procedures/1) to ensure overfitting is not occuring during training.\n",
    "***"
   ]
  },
  {
   "cell_type": "markdown",
   "metadata": {},
   "source": [
    "## <a id=\"learn\">Imputation by Machine Learning</a> \n",
    "Below we will address the missing data by training multiple models to offer the best prediction possible with the\n",
    "available data. We will be following the steps required for a successful cross validation procedure. To start, we will fit a linear model to each of the age ranges individually and thencheck to see whether, or not, the model preformed well. We preform this check to ensure that the data is dispersed in a linearly observable fashion.  After that check, we will then perform a test on each model with a subset of its respective dataframe that was not used during training.  If the scores are high, then we have successfully, and accurately, trained our model."
   ]
  },
  {
   "cell_type": "code",
   "execution_count": 39,
   "metadata": {
    "scrolled": true
   },
   "outputs": [
    {
     "name": "stdout",
     "output_type": "stream",
     "text": [
      "The Linear Model for the 15-19 year old age group scored 81.97% goodness of fit.\n",
      "The Linear Model for the 20-24 year old age group scored 18.76% goodness of fit.\n",
      "The Linear Model for the 25-29 year old age group scored 84.82% goodness of fit.\n",
      "The Linear Model for the 30-34 year old age group scored 91.68% goodness of fit.\n",
      "The Linear Model for the 35-39 year old age group scored 92.87% goodness of fit.\n",
      "The Linear Model for the 40-44 year old age group scored 94.33% goodness of fit.\n"
     ]
    }
   ],
   "source": [
    "# create and trian the model for each age grouping\n",
    "teen_model = LinearRegression()\n",
    "early_twenties_model = LinearRegression()\n",
    "late_twenties_model = LinearRegression()\n",
    "early_thirties_model = LinearRegression()\n",
    "late_thirties_model = LinearRegression()\n",
    "early_forties_model = LinearRegression()\n",
    "\n",
    "# grab the rates for each year separated by age grouping\n",
    "teens = birth_rates[(birth_rates['Age Group'] == '15-19 years')\n",
    "                       & (birth_rates['Race or Hispanic Origin'] == 'Non-Hispanic white')]\n",
    "teens = teens.dropna()\n",
    "early_twenties = birth_rates[(birth_rates['Age Group'] == '20-24 years')\n",
    "                       & (birth_rates['Race or Hispanic Origin'] == 'Non-Hispanic white')]\n",
    "early_twenties = early_twenties.dropna()\n",
    "late_twenties = birth_rates[(birth_rates['Age Group'] == '25-29 years')\n",
    "                       & (birth_rates['Race or Hispanic Origin'] == 'Non-Hispanic white')]\n",
    "late_twenties = late_twenties.dropna()\n",
    "early_thirties = birth_rates[(birth_rates['Age Group'] == '30-34 years')\n",
    "                       & (birth_rates['Race or Hispanic Origin'] == 'Non-Hispanic white')]\n",
    "early_thirties = early_thirties.dropna()\n",
    "late_thirties = birth_rates[(birth_rates['Age Group'] == '35-39 years')\n",
    "                       & (birth_rates['Race or Hispanic Origin'] == 'Non-Hispanic white')]\n",
    "late_thirties = late_thirties.dropna()\n",
    "early_forties = birth_rates[(birth_rates['Age Group'] == '40-44 years')\n",
    "                       & (birth_rates['Race or Hispanic Origin'] == 'Non-Hispanic white')]\n",
    "early_forties = early_forties.dropna()\n",
    "\n",
    "# break up the data for 90% to train on a 10% for cross validation\n",
    "testing_percent = .65\n",
    "random_seed = 27346534\n",
    "teen_training = teens.sample(frac=testing_percent, random_state=random_seed)\n",
    "early_twenties_training = early_twenties.sample(frac=testing_percent, random_state=random_seed)\n",
    "late_twenties_training = late_twenties.sample(frac=testing_percent, random_state=random_seed)\n",
    "early_thirties_training = early_thirties.sample(frac=testing_percent, random_state=random_seed)\n",
    "late_thirties_training = late_thirties.sample(frac=testing_percent, random_state=random_seed)\n",
    "early_forties_training = early_forties.sample(frac=testing_percent, random_state=random_seed)\n",
    "\n",
    "teen_testing = teens[teens.isin(teen_training) == False].dropna()\n",
    "early_twenties_testing = early_twenties[early_twenties.isin(early_twenties_training) == False].dropna()\n",
    "late_twenties_testing = late_twenties[late_twenties.isin(late_twenties_training) == False].dropna()\n",
    "early_thirties_testing = early_thirties[early_thirties.isin(early_thirties_training) == False].dropna()\n",
    "late_thirties_testing = late_thirties[late_thirties.isin(late_thirties_training) == False].dropna()\n",
    "early_forties_testing = early_forties[early_forties.isin(early_forties_training) == False].dropna()\n",
    "\n",
    "# create a model for each age range for an accurate prediction\n",
    "teen_model.fit(teen_training['Year'].values.reshape(-1,1),\n",
    "               teen_training['Birth Rate'].values.reshape(-1,1))\n",
    "early_twenties_model.fit(early_twenties_training['Year'].values.reshape(-1,1),\n",
    "                         early_twenties_training['Birth Rate'].values.reshape(-1,1))\n",
    "late_twenties_model.fit(late_twenties_training['Year'].values.reshape(-1,1),\n",
    "                        late_twenties_training['Birth Rate'].values.reshape(-1,1))\n",
    "early_thirties_model.fit(early_thirties_training['Year'].values.reshape(-1,1),\n",
    "                         early_thirties_training['Birth Rate'].values.reshape(-1,1))\n",
    "late_thirties_model.fit(late_thirties_training['Year'].values.reshape(-1,1),\n",
    "                        late_thirties_training['Birth Rate'].values.reshape(-1,1))\n",
    "early_forties_model.fit(early_forties_training['Year'].values.reshape(-1,1),\n",
    "                        early_forties_training['Birth Rate'].values.reshape(-1,1))\n",
    "\n",
    "# compute the coefficients of determination for each of the models\n",
    "r_teen = teen_model.score(teens['Year'].values.reshape(-1,1),\n",
    "                                 teens['Birth Rate'].values.reshape(-1,1))\n",
    "r_early_twenties = early_twenties_model.score(early_twenties['Year'].values.reshape(-1,1),\n",
    "                                 early_twenties['Birth Rate'].values.reshape(-1,1))\n",
    "r_late_twenties = late_twenties_model.score(late_twenties['Year'].values.reshape(-1,1),\n",
    "                                 late_twenties['Birth Rate'].values.reshape(-1,1))\n",
    "r_early_thirties = early_thirties_model.score(early_thirties['Year'].values.reshape(-1,1),\n",
    "                                 early_thirties['Birth Rate'].values.reshape(-1,1))\n",
    "r_late_thirties = late_thirties_model.score(late_thirties['Year'].values.reshape(-1,1),\n",
    "                                 late_thirties['Birth Rate'].values.reshape(-1,1))\n",
    "r_early_forties = early_forties_model.score(early_forties['Year'].values.reshape(-1,1),\n",
    "                                 early_forties['Birth Rate'].values.reshape(-1,1))\n",
    "\n",
    "print(\"The Linear Model for the 15-19 year old age group scored {0:.2f}% goodness of fit.\".format(r_teen * 100))\n",
    "print(\"The Linear Model for the 20-24 year old age group scored {0:.2f}% goodness of fit.\".format(r_early_twenties * 100))\n",
    "print(\"The Linear Model for the 25-29 year old age group scored {0:.2f}% goodness of fit.\".format(r_late_twenties * 100))\n",
    "print(\"The Linear Model for the 30-34 year old age group scored {0:.2f}% goodness of fit.\".format(r_early_thirties * 100))\n",
    "print(\"The Linear Model for the 35-39 year old age group scored {0:.2f}% goodness of fit.\".format(r_late_thirties * 100))\n",
    "print(\"The Linear Model for the 40-44 year old age group scored {0:.2f}% goodness of fit.\".format(r_early_forties * 100))"
   ]
  },
  {
   "cell_type": "markdown",
   "metadata": {
    "collapsed": true
   },
   "source": [
    "Based on the above Coefficients of Determination, we can see that all of the models besides the model for the 20-24 year range preformed well. To handle the missing data for the 20-24 age range, we can apply a 3rd degree polynomial curve fit in order to get a better prediction."
   ]
  },
  {
   "cell_type": "code",
   "execution_count": 40,
   "metadata": {},
   "outputs": [
    {
     "name": "stdout",
     "output_type": "stream",
     "text": [
      "The cubic poloynomial model for the 20-24 age range scored 84.80% goodness of fit.\n"
     ]
    }
   ],
   "source": [
    "#extract 20-24 year old data and create curve for predictions\n",
    "x = early_twenties_training['Year'].values.reshape(1,-1)\n",
    "y = early_twenties_training['Birth Rate'].values.reshape(1,-1)\n",
    "x = x.flatten()\n",
    "y = y.flatten()\n",
    "early_twenties_coef = np.polyfit(x,y,3)\n",
    "early_twenties_curve = np.poly1d(early_twenties_coef)\n",
    "y_hats = [early_twenties_curve(val) for val in x]\n",
    "print(\"The cubic poloynomial model for the 20-24 age range scored {0:.2f}% goodness of fit.\"\n",
    "      .format(r2_score(y, y_hats) * 100))\n"
   ]
  },
  {
   "cell_type": "markdown",
   "metadata": {},
   "source": [
    "Since our coefficient of determination is higher, we can now perform the final step in our cross validation procedure by using our testing data in order to ensure that the models aren't overfitting our training set."
   ]
  },
  {
   "cell_type": "code",
   "execution_count": 41,
   "metadata": {},
   "outputs": [
    {
     "data": {
      "text/plain": [
       "<matplotlib.text.Text at 0x7f127006d048>"
      ]
     },
     "execution_count": 41,
     "metadata": {},
     "output_type": "execute_result"
    },
    {
     "data": {
      "image/png": "[encoded data removed]",
      "text/plain": [
       "<matplotlib.figure.Figure at 0x7f127001fe80>"
      ]
     },
     "metadata": {},
     "output_type": "display_data"
    }
   ],
   "source": [
    "# use testing sets cross validation on models\n",
    "teen_cv = teen_model.score(teen_testing['Year'].values.reshape(-1,1),\n",
    "                teen_testing['Birth Rate'].values.reshape(-1,1))\n",
    "late_twenties_cv = late_twenties_model.score(late_twenties_testing['Year'].values.reshape(-1,1),\n",
    "                late_twenties_testing['Birth Rate'].values.reshape(-1,1))\n",
    "early_thirties_cv = early_thirties_model.score(early_thirties_testing['Year'].values.reshape(-1,1),\n",
    "                early_thirties_testing['Birth Rate'].values.reshape(-1,1))\n",
    "late_thirties_cv = late_thirties_model.score(late_thirties_testing['Year'].values.reshape(-1,1),\n",
    "                late_thirties_testing['Birth Rate'].values.reshape(-1,1))\n",
    "early_forties_cv = early_forties_model.score(early_forties_testing['Year'].values.reshape(-1,1),\n",
    "                early_forties_testing['Birth Rate'].values.reshape(-1,1))\n",
    "# cubic model testing\n",
    "y_hats = [early_twenties_curve(val) for val in early_twenties_testing['Year']]\n",
    "early_twenties_cv = r2_score(early_twenties_testing['Birth Rate'], y_hats)\n",
    "\n",
    "# plot of results\n",
    "cv_results = pandas.DataFrame()\n",
    "cvs = [teen_cv, early_twenties_cv, late_twenties_cv, early_thirties_cv, late_thirties_cv, early_forties_cv]\n",
    "cv_results['Ages'] = np.unique(birth_rates['Age Group'].values)\n",
    "cv_results['Cross Validation Score'] = np.abs(cvs)\n",
    "\n",
    "plt.figure(figsize=(10,6))\n",
    "ax = sb.barplot(x='Ages', y='Cross Validation Score', data=cv_results)\n",
    "ax.set_yticks([.25,.5,.7, .8, .9, 1])\n",
    "ax.set_title('Cross Validation Score for each Model')\n",
    "ax.set_ylabel('Cross Validation Score')\n",
    "ax.set_xlabel('Age Range of Model')\n"
   ]
  },
  {
   "cell_type": "markdown",
   "metadata": {},
   "source": [
    "In the above bar graph, we can see the cross validation score for each of the models.  Since our models preformed well during testing, we can apply our new models to fill the missing values in our dataframe."
   ]
  },
  {
   "cell_type": "code",
   "execution_count": 42,
   "metadata": {
    "collapsed": true
   },
   "outputs": [],
   "source": [
    "def obtainEstimate(age_group, year):\n",
    "    \"\"\"\n",
    "    Given an age group and a year, user the appropriate linear\n",
    "    model to approximate its value\n",
    "    \"\"\"\n",
    "    estimate = -1\n",
    "    \n",
    "    if age_group == '15-19 years':\n",
    "        estimate = teen_model.predict(year)\n",
    "    elif age_group == '20-24 years':\n",
    "        estimate = early_twenties_curve(year)\n",
    "    elif age_group == '25-29 years':\n",
    "        estimate = late_twenties_model.predict(year)\n",
    "    elif age_group == '30-34 years':\n",
    "        estimate = early_thirties_model.predict(year)\n",
    "    elif age_group == '35-39 years':\n",
    "        estimate = late_thirties_model.predict(year)\n",
    "    else:\n",
    "        estimate = early_forties_model.predict(year)\n",
    "        \n",
    "    return estimate\n",
    "\n",
    "# estimate values for each year and place them into our dataframe\n",
    "birth_rates['Birth Rate'] = birth_rates.apply(\n",
    "    lambda row: row['Birth Rate'] if pandas.notnull(row['Birth Rate'])\n",
    "        else obtainEstimate(row['Age Group'], row['Year']), axis=1)\n"
   ]
  },
  {
   "cell_type": "markdown",
   "metadata": {},
   "source": [
    "Now that the NaN values are filled with the appropriate estimates, we can continue tidying the dataframe.  Next, we will be cleaning the \"Age Group\" column so that it simply reads __age1__ - __age2__."
   ]
  },
  {
   "cell_type": "code",
   "execution_count": 43,
   "metadata": {},
   "outputs": [
    {
     "data": {
      "text/html": [
       "<div>\n",
       "<table border=\"1\" class=\"dataframe\">\n",
       "  <thead>\n",
       "    <tr style=\"text-align: right;\">\n",
       "      <th></th>\n",
       "      <th>Year</th>\n",
       "      <th>Age Group</th>\n",
       "      <th>Race or Hispanic Origin</th>\n",
       "      <th>Birth Rate</th>\n",
       "    </tr>\n",
       "  </thead>\n",
       "  <tbody>\n",
       "    <tr>\n",
       "      <th>0</th>\n",
       "      <td>2015</td>\n",
       "      <td>15-19</td>\n",
       "      <td>All Races</td>\n",
       "      <td>20.2</td>\n",
       "    </tr>\n",
       "    <tr>\n",
       "      <th>1</th>\n",
       "      <td>2015</td>\n",
       "      <td>15-19</td>\n",
       "      <td>Asian or Pacific Islander total</td>\n",
       "      <td>5.5</td>\n",
       "    </tr>\n",
       "    <tr>\n",
       "      <th>2</th>\n",
       "      <td>2015</td>\n",
       "      <td>15-19</td>\n",
       "      <td>Black total</td>\n",
       "      <td>31.5</td>\n",
       "    </tr>\n",
       "    <tr>\n",
       "      <th>3</th>\n",
       "      <td>2015</td>\n",
       "      <td>15-19</td>\n",
       "      <td>Hispanic</td>\n",
       "      <td>31.6</td>\n",
       "    </tr>\n",
       "    <tr>\n",
       "      <th>4</th>\n",
       "      <td>2015</td>\n",
       "      <td>15-19</td>\n",
       "      <td>Non-Hispanic white</td>\n",
       "      <td>13.9</td>\n",
       "    </tr>\n",
       "  </tbody>\n",
       "</table>\n",
       "</div>"
      ],
      "text/plain": [
       "   Year Age Group          Race or Hispanic Origin Birth Rate\n",
       "0  2015     15-19                        All Races       20.2\n",
       "1  2015     15-19  Asian or Pacific Islander total        5.5\n",
       "2  2015     15-19                      Black total       31.5\n",
       "3  2015     15-19                         Hispanic       31.6\n",
       "4  2015     15-19               Non-Hispanic white       13.9"
      ]
     },
     "execution_count": 43,
     "metadata": {},
     "output_type": "execute_result"
    }
   ],
   "source": [
    "# remove the 'years' word from the Age group input\n",
    "birth_rates['Age Group'] = birth_rates['Age Group'].str[0:5]\n",
    "birth_rates.head()"
   ]
  },
  {
   "cell_type": "markdown",
   "metadata": {
    "collapsed": true
   },
   "source": [
    "Finally, we will work on cleaning up the labeling used under the 'Race of Hispanic Origin' column.  We will also replace this column name with 'Race/Origin'"
   ]
  },
  {
   "cell_type": "code",
   "execution_count": 44,
   "metadata": {},
   "outputs": [
    {
     "data": {
      "text/html": [
       "<div>\n",
       "<table border=\"1\" class=\"dataframe\">\n",
       "  <thead>\n",
       "    <tr style=\"text-align: right;\">\n",
       "      <th></th>\n",
       "      <th>Year</th>\n",
       "      <th>Age Range</th>\n",
       "      <th>Race/Origin</th>\n",
       "      <th>Birth Rate</th>\n",
       "    </tr>\n",
       "  </thead>\n",
       "  <tbody>\n",
       "    <tr>\n",
       "      <th>0</th>\n",
       "      <td>2015</td>\n",
       "      <td>15-19</td>\n",
       "      <td>All Races</td>\n",
       "      <td>20.2</td>\n",
       "    </tr>\n",
       "    <tr>\n",
       "      <th>1</th>\n",
       "      <td>2015</td>\n",
       "      <td>15-19</td>\n",
       "      <td>Asian</td>\n",
       "      <td>5.5</td>\n",
       "    </tr>\n",
       "    <tr>\n",
       "      <th>2</th>\n",
       "      <td>2015</td>\n",
       "      <td>15-19</td>\n",
       "      <td>Black</td>\n",
       "      <td>31.5</td>\n",
       "    </tr>\n",
       "    <tr>\n",
       "      <th>3</th>\n",
       "      <td>2015</td>\n",
       "      <td>15-19</td>\n",
       "      <td>Hispanic</td>\n",
       "      <td>31.6</td>\n",
       "    </tr>\n",
       "    <tr>\n",
       "      <th>4</th>\n",
       "      <td>2015</td>\n",
       "      <td>15-19</td>\n",
       "      <td>Non-Hispanic white</td>\n",
       "      <td>13.9</td>\n",
       "    </tr>\n",
       "  </tbody>\n",
       "</table>\n",
       "</div>"
      ],
      "text/plain": [
       "   Year Age Range         Race/Origin Birth Rate\n",
       "0  2015     15-19           All Races       20.2\n",
       "1  2015     15-19               Asian        5.5\n",
       "2  2015     15-19               Black       31.5\n",
       "3  2015     15-19            Hispanic       31.6\n",
       "4  2015     15-19  Non-Hispanic white       13.9"
      ]
     },
     "execution_count": 44,
     "metadata": {},
     "output_type": "execute_result"
    }
   ],
   "source": [
    "birth_rates['Race or Hispanic Origin'] = birth_rates['Race or Hispanic Origin'] \\\n",
    "    .apply(lambda entry : entry[:5] if entry == 'Black total' else entry)\n",
    "birth_rates['Race or Hispanic Origin'] = birth_rates['Race or Hispanic Origin'] \\\n",
    "    .apply(lambda entry : entry[:5] if entry == 'White total' else entry)\n",
    "birth_rates['Race or Hispanic Origin'] = birth_rates['Race or Hispanic Origin'] \\\n",
    "    .apply(lambda entry : entry[:5] if entry == 'Asian or Pacific Islander total' else entry)\n",
    "birth_rates.columns = ['Year', 'Age Range', 'Race/Origin', 'Birth Rate']\n",
    "birth_rates.head()"
   ]
  },
  {
   "cell_type": "markdown",
   "metadata": {},
   "source": [
    "Above we see our tidy dataframe which has been prepared for future analysis and computations.\n",
    "***"
   ]
  },
  {
   "cell_type": "markdown",
   "metadata": {
    "collapsed": true
   },
   "source": [
    "## <a id=\"explore\">Exploratory Analysis</a> \n",
    "Now that we have finished cleaning the data, we can begin to look around and spot any trends. During this section we will be creating visualizations for different subsets of our data.  The purpose of these visualizations is to see the data in a more user friendly manner to enable us to ask new questions and have new realizations. To start, lets look at how the birth rate for unmarried women changes for All Races over time."
   ]
  },
  {
   "cell_type": "code",
   "execution_count": 45,
   "metadata": {},
   "outputs": [
    {
     "data": {
      "text/html": [
       "<div>\n",
       "<table border=\"1\" class=\"dataframe\">\n",
       "  <thead>\n",
       "    <tr style=\"text-align: right;\">\n",
       "      <th></th>\n",
       "      <th>Year</th>\n",
       "      <th>Age Range</th>\n",
       "      <th>Race/Origin</th>\n",
       "      <th>Birth Rate</th>\n",
       "    </tr>\n",
       "  </thead>\n",
       "  <tbody>\n",
       "    <tr>\n",
       "      <th>0</th>\n",
       "      <td>2015</td>\n",
       "      <td>15-19</td>\n",
       "      <td>All Races</td>\n",
       "      <td>20.2</td>\n",
       "    </tr>\n",
       "    <tr>\n",
       "      <th>6</th>\n",
       "      <td>2014</td>\n",
       "      <td>15-19</td>\n",
       "      <td>All Races</td>\n",
       "      <td>22</td>\n",
       "    </tr>\n",
       "    <tr>\n",
       "      <th>12</th>\n",
       "      <td>2013</td>\n",
       "      <td>15-19</td>\n",
       "      <td>All Races</td>\n",
       "      <td>24</td>\n",
       "    </tr>\n",
       "    <tr>\n",
       "      <th>18</th>\n",
       "      <td>2012</td>\n",
       "      <td>15-19</td>\n",
       "      <td>All Races</td>\n",
       "      <td>26.7</td>\n",
       "    </tr>\n",
       "    <tr>\n",
       "      <th>24</th>\n",
       "      <td>2011</td>\n",
       "      <td>15-19</td>\n",
       "      <td>All Races</td>\n",
       "      <td>28.4</td>\n",
       "    </tr>\n",
       "  </tbody>\n",
       "</table>\n",
       "</div>"
      ],
      "text/plain": [
       "    Year Age Range Race/Origin Birth Rate\n",
       "0   2015     15-19   All Races       20.2\n",
       "6   2014     15-19   All Races         22\n",
       "12  2013     15-19   All Races         24\n",
       "18  2012     15-19   All Races       26.7\n",
       "24  2011     15-19   All Races       28.4"
      ]
     },
     "execution_count": 45,
     "metadata": {},
     "output_type": "execute_result"
    }
   ],
   "source": [
    "# extract the All Races observations and plot over time\n",
    "all_races_df = birth_rates[birth_rates['Race/Origin'] == 'All Races']\n",
    "all_races_df.head()"
   ]
  },
  {
   "cell_type": "markdown",
   "metadata": {},
   "source": [
    "After the above operation on the dataframe, we now have a new dataframe that contains all entries where the 'Race/Origin' feature is set to 'All Races'"
   ]
  },
  {
   "cell_type": "code",
   "execution_count": 46,
   "metadata": {},
   "outputs": [
    {
     "data": {
      "text/plain": [
       "<seaborn.axisgrid.FacetGrid at 0x7f126feb6cc0>"
      ]
     },
     "execution_count": 46,
     "metadata": {},
     "output_type": "execute_result"
    },
    {
     "data": {
      "image/png": "[encoded data removed]",
      "text/plain": [
       "<matplotlib.figure.Figure at 0x7f126feb6518>"
      ]
     },
     "metadata": {},
     "output_type": "display_data"
    }
   ],
   "source": [
    "ax = sb.lmplot(x='Year', y='Birth Rate', data=all_races_df, fit_reg=False, aspect=2)\n",
    "ax.set_axis_labels('Birth Rate per Year per Age Range')"
   ]
  },
  {
   "cell_type": "markdown",
   "metadata": {},
   "source": [
    "Interestingly enough, there seems to be 6 lines independent of each other when we look after the year 1980. There may be some feature that affects the data uniquely. For clarity, lets break this data up by age grouping.\n",
    "***"
   ]
  },
  {
   "cell_type": "markdown",
   "metadata": {},
   "source": [
    "### <a id=\"age\">Analysis of Age</a> \n",
    "In this section we will begin exploring whether, or not, the different age ranges have different affects on\n",
    "the birth rate percentage."
   ]
  },
  {
   "cell_type": "code",
   "execution_count": 47,
   "metadata": {},
   "outputs": [
    {
     "data": {
      "text/plain": [
       "<seaborn.axisgrid.FacetGrid at 0x7f126fde1048>"
      ]
     },
     "execution_count": 47,
     "metadata": {},
     "output_type": "execute_result"
    },
    {
     "data": {
      "image/png": "[encoded data removed]",
      "text/plain": [
       "<matplotlib.figure.Figure at 0x7f126fe34630>"
      ]
     },
     "metadata": {},
     "output_type": "display_data"
    }
   ],
   "source": [
    "# plot the data of birth rate per year with color change on age range\n",
    "ax = sb.lmplot(x='Year', y='Birth Rate', hue='Age Range', data=all_races_df,\n",
    "               fit_reg=False, aspect=2)\n",
    "ax.set_axis_labels('Birth Rate per Year per Age Range')"
   ]
  },
  {
   "cell_type": "markdown",
   "metadata": {},
   "source": [
    "With each color representing a different age range, we can see that age has a part in the determination of birth rate for unmarried women.  If we take a closer look at the age ranges, we can see that the difference between the 20-24 age range and the 40-44 age range is quite large. If we look closer at the years during and around 2010, we also see that the 15-19 and 20-24 age ranges' birth rate are dropping quite significantly. To understand the differences between the various age ranges, we can analyze some basic summary statistics."
   ]
  },
  {
   "cell_type": "code",
   "execution_count": 48,
   "metadata": {},
   "outputs": [
    {
     "data": {
      "text/html": [
       "<div>\n",
       "<table border=\"1\" class=\"dataframe\">\n",
       "  <thead>\n",
       "    <tr style=\"text-align: right;\">\n",
       "      <th></th>\n",
       "      <th>Age Range</th>\n",
       "      <th>Mean</th>\n",
       "      <th>Standard Error Mean</th>\n",
       "    </tr>\n",
       "  </thead>\n",
       "  <tbody>\n",
       "    <tr>\n",
       "      <th>0</th>\n",
       "      <td>15-19</td>\n",
       "      <td>34.228947</td>\n",
       "      <td>1.140730</td>\n",
       "    </tr>\n",
       "    <tr>\n",
       "      <th>1</th>\n",
       "      <td>20-24</td>\n",
       "      <td>62.089474</td>\n",
       "      <td>2.117101</td>\n",
       "    </tr>\n",
       "    <tr>\n",
       "      <th>2</th>\n",
       "      <td>25-29</td>\n",
       "      <td>55.718421</td>\n",
       "      <td>2.209268</td>\n",
       "    </tr>\n",
       "    <tr>\n",
       "      <th>3</th>\n",
       "      <td>30-34</td>\n",
       "      <td>40.081579</td>\n",
       "      <td>2.083785</td>\n",
       "    </tr>\n",
       "    <tr>\n",
       "      <th>4</th>\n",
       "      <td>35-39</td>\n",
       "      <td>20.163158</td>\n",
       "      <td>1.212549</td>\n",
       "    </tr>\n",
       "    <tr>\n",
       "      <th>5</th>\n",
       "      <td>40-44</td>\n",
       "      <td>5.013158</td>\n",
       "      <td>0.334570</td>\n",
       "    </tr>\n",
       "  </tbody>\n",
       "</table>\n",
       "</div>"
      ],
      "text/plain": [
       "  Age Range       Mean  Standard Error Mean\n",
       "0     15-19  34.228947             1.140730\n",
       "1     20-24  62.089474             2.117101\n",
       "2     25-29  55.718421             2.209268\n",
       "3     30-34  40.081579             2.083785\n",
       "4     35-39  20.163158             1.212549\n",
       "5     40-44   5.013158             0.334570"
      ]
     },
     "execution_count": 48,
     "metadata": {},
     "output_type": "execute_result"
    }
   ],
   "source": [
    "# compute mean of each of the age ranges \n",
    "all_ranges = np.unique(all_races_df['Age Range'].values)\n",
    "age_data_df = pandas.DataFrame(columns=['15-19','20-24','25-29','30-34','35-39','40-44'])\n",
    "age_range_statistics_df = pandas.DataFrame(columns=['Age Range', 'Mean', 'Standard Error Mean'])\n",
    "\n",
    "for age_range in range(len(all_ranges)):\n",
    "    rates_df = all_races_df[all_races_df['Age Range'] == all_ranges[age_range]]\n",
    "    births = rates_df['Birth Rate']\n",
    "    age_data_df[all_ranges[age_range]] = np.copy(births)\n",
    "    mean = births.mean()\n",
    "    std_error = sem(births)\n",
    "    age_range_statistics_df.loc[age_range] = [all_ranges[age_range], mean, std_error]\n",
    "    \n",
    "age_range_statistics_df"
   ]
  },
  {
   "cell_type": "markdown",
   "metadata": {},
   "source": [
    "In the above dataframe, we break up the All Races data into six age groups and calculate the mean and standard error for each of them. We can plot these calculated statistics for a clearer view to how similar or different the means are from each other."
   ]
  },
  {
   "cell_type": "code",
   "execution_count": 49,
   "metadata": {},
   "outputs": [
    {
     "data": {
      "text/plain": [
       "<Container object of 3 artists>"
      ]
     },
     "execution_count": 49,
     "metadata": {},
     "output_type": "execute_result"
    },
    {
     "data": {
      "image/png": "[encoded data removed]",
      "text/plain": [
       "<matplotlib.figure.Figure at 0x7f126fe0fa20>"
      ]
     },
     "metadata": {},
     "output_type": "display_data"
    }
   ],
   "source": [
    "# plot the means for each range\n",
    "ax = sb.barplot(x='Age Range', y='Mean', data=age_range_statistics_df, ci=\"sd\")\n",
    "ax.set_title('Birth Rate Mean Percentage per Age Range')\n",
    "ax.set_ylabel('Mean Birth Rate')\n",
    "ax.errorbar(x=[v for v in range(len(age_range_statistics_df['Age Range']))],\n",
    "            y=age_range_statistics_df['Mean'], yerr=age_range_statistics_df['Standard Error Mean'],\n",
    "           ecolor='black', elinewidth=3,fmt='none')"
   ]
  },
  {
   "cell_type": "markdown",
   "metadata": {
    "collapsed": true
   },
   "source": [
    "Above we can see the mean birth rates for each age range.  Also, we see the standard error for the mean for each of these age ranges as well. While it may be quite clear based on the visualization alone that there is a significant difference between the mean birth rates of the different age ranges, we can perform an analysis of variance test (ANOVA) to further support our claim.  \n",
    "For our ANOVA test, we will formally define the null hypothesis to be that there is no difference betweeen the true means of the six age ranges birth rates. Our alternate hypothesis will be that there at least one of the six true means is equal to another one. \n",
    "\n",
    "$$ H_0: \\mu_0 = \\mu_1 = \\mu_2 = \\mu_3 = \\mu_4 = \\mu_5 $$\n",
    "<center>$H_a$ : at least one is not equal</center>\n",
    "<center>$\\mu_0$ is the true mean birth rate of the 15-19 age range</center>\n",
    "<center>$\\mu_1$ is the true mean birth rate of the 20-24 age range</center>\n",
    "<center>$\\mu_2$ is the true mean birth rate of the 25-29 age range</center>\n",
    "<center>$\\mu_3$ is the true mean birth rate of the 30-34 age range</center>\n",
    "<center>$\\mu_4$ is the true mean birth rate of the 35-39 age range</center>\n",
    "<center>$\\mu_5$ is the true mean birth rate of the 40-44 age range</center>\n"
   ]
  },
  {
   "cell_type": "code",
   "execution_count": 50,
   "metadata": {},
   "outputs": [
    {
     "data": {
      "text/html": [
       "<div>\n",
       "<table border=\"1\" class=\"dataframe\">\n",
       "  <thead>\n",
       "    <tr style=\"text-align: right;\">\n",
       "      <th></th>\n",
       "      <th>15-19</th>\n",
       "      <th>20-24</th>\n",
       "      <th>25-29</th>\n",
       "      <th>30-34</th>\n",
       "      <th>35-39</th>\n",
       "      <th>40-44</th>\n",
       "    </tr>\n",
       "  </thead>\n",
       "  <tbody>\n",
       "    <tr>\n",
       "      <th>0</th>\n",
       "      <td>20.2</td>\n",
       "      <td>59.7</td>\n",
       "      <td>66.9</td>\n",
       "      <td>60.3</td>\n",
       "      <td>34.1</td>\n",
       "      <td>9</td>\n",
       "    </tr>\n",
       "    <tr>\n",
       "      <th>1</th>\n",
       "      <td>22</td>\n",
       "      <td>61.6</td>\n",
       "      <td>67.6</td>\n",
       "      <td>58.1</td>\n",
       "      <td>33.4</td>\n",
       "      <td>8.5</td>\n",
       "    </tr>\n",
       "    <tr>\n",
       "      <th>2</th>\n",
       "      <td>24</td>\n",
       "      <td>63.1</td>\n",
       "      <td>66.7</td>\n",
       "      <td>56.6</td>\n",
       "      <td>31.8</td>\n",
       "      <td>8.3</td>\n",
       "    </tr>\n",
       "    <tr>\n",
       "      <th>3</th>\n",
       "      <td>26.7</td>\n",
       "      <td>64.7</td>\n",
       "      <td>67.2</td>\n",
       "      <td>56.3</td>\n",
       "      <td>30.9</td>\n",
       "      <td>8.5</td>\n",
       "    </tr>\n",
       "    <tr>\n",
       "      <th>4</th>\n",
       "      <td>28.4</td>\n",
       "      <td>66.7</td>\n",
       "      <td>67.8</td>\n",
       "      <td>56.2</td>\n",
       "      <td>29.9</td>\n",
       "      <td>8.2</td>\n",
       "    </tr>\n",
       "  </tbody>\n",
       "</table>\n",
       "</div>"
      ],
      "text/plain": [
       "  15-19 20-24 25-29 30-34 35-39 40-44\n",
       "0  20.2  59.7  66.9  60.3  34.1     9\n",
       "1    22  61.6  67.6  58.1  33.4   8.5\n",
       "2    24  63.1  66.7  56.6  31.8   8.3\n",
       "3  26.7  64.7  67.2  56.3  30.9   8.5\n",
       "4  28.4  66.7  67.8  56.2  29.9   8.2"
      ]
     },
     "execution_count": 50,
     "metadata": {},
     "output_type": "execute_result"
    }
   ],
   "source": [
    "age_data_df.head()"
   ]
  },
  {
   "cell_type": "markdown",
   "metadata": {},
   "source": [
    "To start our ANOVA test, we will be working with the previously generated dataframe that simply stores all of the data for each age range that was recorded as 'All Races' under the Race/Origin feature. "
   ]
  },
  {
   "cell_type": "code",
   "execution_count": 51,
   "metadata": {},
   "outputs": [
    {
     "name": "stdout",
     "output_type": "stream",
     "text": [
      "F Statistic: 166.37790582116503\n",
      "P-value: 5.176341835790885e-73\n"
     ]
    }
   ],
   "source": [
    "f, p = stats.f_oneway(age_data_df['15-19'], age_data_df['20-24'], age_data_df['25-29'],\n",
    "                     age_data_df['30-34'], age_data_df['35-39'], age_data_df['40-44'])\n",
    "\n",
    "print ('F Statistic: {}'.format(f))\n",
    "print ('P-value: {}'.format(p))"
   ]
  },
  {
   "cell_type": "markdown",
   "metadata": {
    "collapsed": true
   },
   "source": [
    "Of the results generated above, let's focus on the P value.  To determine whether, or not, we will reject our null hypothesis, we will compare our p-value to our significance level of $\\alpha = .01$.  Since our p-value is, indeed, smaller than our alpha value, we have sufficient evidence to reject the null hypothesis.  In context of our analysis, this means that there is sufficient evidence to say that there exists at least one true mean birth rate that is significantly different from the others.  What we can do now, is focus in on the group of the age ranges that had very close mean birth rate values and see how different their respective true means could be.  The age ranges we will consider are 20-24 and 25-29. To determine a difference between the true mean birth rates of the age ranges, we will preform a hypothesis test. To check which test we should use, T-test or Z-test, we need to get some basic information about our sample."
   ]
  },
  {
   "cell_type": "code",
   "execution_count": 52,
   "metadata": {},
   "outputs": [
    {
     "name": "stdout",
     "output_type": "stream",
     "text": [
      "There are 38 observations per age range.\n"
     ]
    }
   ],
   "source": [
    "print(\"There are {} observations per age range.\".format(len(age_data_df)))"
   ]
  },
  {
   "cell_type": "markdown",
   "metadata": {
    "collapsed": true
   },
   "source": [
    "For each of the age ranges, there are 38 observations. By the [Central Limit Theorem](https://en.wikipedia.org/wiki/Central_limit_theorem) we can then assume that this sample is normally distributed with mean $\\mu$ and variance $\\sigma^2$. Since we do not know the true variance of either population, we will proceed by using the [Pooled T Statistic](https://onlinecourses.science.psu.edu/stat414/node/201)."
   ]
  },
  {
   "cell_type": "markdown",
   "metadata": {},
   "source": [
    "We will begin our first hypothesis test as follows.\n",
    "$$ H_0: \\mu_0 - \\mu_1 = \\Delta_0 = 0 $$\n",
    "$$H_a: \\mu_0 - \\mu_1 \\neq \\Delta_0 = 0$$\n",
    "<center>$\\mu_0$ is the true mean birth rate of the 20-24 age range</center>\n",
    "<center>$\\mu_1$ is the true mean birth rate of the 25-29 age range</center>\n"
   ]
  },
  {
   "cell_type": "code",
   "execution_count": 53,
   "metadata": {},
   "outputs": [
    {
     "name": "stdout",
     "output_type": "stream",
     "text": [
      "With 74.0 degrees of freedom, the computed P-value is: 0.04078989819564875\n"
     ]
    }
   ],
   "source": [
    "_, p_value, df = ttest_ind(age_data_df['20-24'], age_data_df['25-29'], alternative='two-sided')\n",
    "print(\"With {} degrees of freedom, the computed P-value is: {}\".format(df, p_value))"
   ]
  },
  {
   "cell_type": "markdown",
   "metadata": {},
   "source": [
    "With the calculated p-value above, we become skeptical to whether, or not, there is a significant difference between the true mean birth rates of the two age ranges.  At a significance level of $\\alpha = .05$, we would reject the null hypothesis and decided in favor of the alternate hypothesis that there is a significant difference.  On the other hand, at a significance level of $\\alpha = .01$, we would fail to reject the null hypothesis.  This implies that there is not sufficient evidence to show a difference between the true means of the two populations.  To uncover more information about these ranges, we will look into the birth rates between the different races.\n",
    "***"
   ]
  },
  {
   "cell_type": "markdown",
   "metadata": {},
   "source": [
    "### <a id=\"race\">Analysis of Race</a> \n",
    "To continue our exploratory analysis of the two age ranges, [20-24 and 25-29] we will create a visualization in order to more easily understand what races are playing the largest role in our birth rate."
   ]
  },
  {
   "cell_type": "code",
   "execution_count": 54,
   "metadata": {},
   "outputs": [
    {
     "data": {
      "text/plain": [
       "<seaborn.axisgrid.FacetGrid at 0x7f126fd1fcf8>"
      ]
     },
     "execution_count": 54,
     "metadata": {},
     "output_type": "execute_result"
    },
    {
     "data": {
      "image/png": "[encoded data removed]",
      "text/plain": [
       "<matplotlib.figure.Figure at 0x7f126fca8eb8>"
      ]
     },
     "metadata": {},
     "output_type": "display_data"
    }
   ],
   "source": [
    "# plot races in play for the 20-24 age group\n",
    "early_twenties_races = birth_rates[birth_rates['Age Range'] == '20-24']\n",
    "early_twenties_races = early_twenties_races[early_twenties_races['Race/Origin'] != 'All Races']\n",
    "\n",
    "ax = sb.lmplot(x='Year', y='Birth Rate', hue='Race/Origin', data=early_twenties_races,\n",
    "               fit_reg=False, aspect=2)\n",
    "ax.set_axis_labels('Birth Rate per Year per Race/Origin for Ages 20-24')"
   ]
  },
  {
   "cell_type": "markdown",
   "metadata": {
    "collapsed": true
   },
   "source": [
    "Above we see the plot for year against Birth rate with different colors representing each of the observed races/orgins.  For the 20-24 year age range, it is quite clear that the Black and Hispanic sample displayed the highest birth rate across our entire 35 year period. Since the Hispanic Birth Rates were not being recordeded until 1980, we will focus on the 25 year range between 1990 and 2015.  Next, let's analyze a similar plot for the 25-29 age range."
   ]
  },
  {
   "cell_type": "code",
   "execution_count": 56,
   "metadata": {},
   "outputs": [
    {
     "data": {
      "text/plain": [
       "<seaborn.axisgrid.FacetGrid at 0x7f126fd275c0>"
      ]
     },
     "execution_count": 56,
     "metadata": {},
     "output_type": "execute_result"
    },
    {
     "data": {
      "image/png": "[encoded data removed]",
      "text/plain": [
       "<matplotlib.figure.Figure at 0x7f1270462518>"
      ]
     },
     "metadata": {},
     "output_type": "display_data"
    }
   ],
   "source": [
    "# plot races in play for the 25-29 age group\n",
    "early_twenties_races = birth_rates[birth_rates['Age Range'] == '25-29']\n",
    "early_twenties_races = early_twenties_races[early_twenties_races['Race/Origin'] != 'All Races']\n",
    "\n",
    "ax = sb.lmplot(x='Year', y='Birth Rate', hue='Race/Origin', data=early_twenties_races,\n",
    "               fit_reg=False, aspect=2)\n",
    "ax.set_axis_labels('Birth Rate per Year per Race/Origin for Ages 25-29')"
   ]
  },
  {
   "cell_type": "markdown",
   "metadata": {},
   "source": [
    "Looking at the above plot, we see that the hispanic birth rates are the highest throughout our sample's duration with the Black sample's birth rate following behind.  Interestingly enough, from highest birth rate to lowest, we see the same ordering, as well as similarly valued birth rates for all of the races/origins.  Hispanics and Blacks with the highest birth rates, followed by white, Non-Hipsanic white, and then Asian.  Looking back at the p-value for our previous pooled t-test, we can now understand why there was not sufficient evidence to reject the null hypothesis in favor of a difference between the true means of the two samples since the distribution of the samples for each race is so similar.  As a final test, we will determine whether there is a statistically significant difference between the true mean birth rates of the Black and Hispanic observations for the 20-24 and 25-29 age ranges."
   ]
  },
  {
   "cell_type": "markdown",
   "metadata": {},
   "source": [
    "We proceed using a pooled t statistic for both of our tests since we know the underlying distribtion is normal and with the assumption that the underlying variances are equal.\n",
    "We will first test for a difference in the 20-24 age range.\n",
    "$$ H_0: \\mu_0 - \\mu_1 = \\Delta_0 = 0 $$\n",
    "$$H_a: \\mu_0 - \\mu_1 \\neq \\Delta_0 = 0$$\n",
    "<center>$\\mu_0$ is the Black true mean birth rate in the 20-24 age range</center>\n",
    "<center>$\\mu_1$ is the Hispanic true mean birth rate of the 20-24 age range</center>"
   ]
  },
  {
   "cell_type": "code",
   "execution_count": 57,
   "metadata": {},
   "outputs": [
    {
     "name": "stdout",
     "output_type": "stream",
     "text": [
      "With 60.0 degrees of freedom, the computed P-value is: 0.2409698366610605\n"
     ]
    }
   ],
   "source": [
    "# extract data for each race\n",
    "black_birth_rates = birth_rates[birth_rates['Age Range'] == '20-24']\n",
    "black_birth_rates = black_birth_rates[black_birth_rates['Race/Origin']=='Black']\n",
    "\n",
    "hispanic_birth_rates = birth_rates[birth_rates['Age Range'] == '20-24']\n",
    "hispanic_birth_rates = hispanic_birth_rates[hispanic_birth_rates['Race/Origin']=='Hispanic']\n",
    "\n",
    "_, p_value, df = ttest_ind(black_birth_rates['Birth Rate'], hispanic_birth_rates['Birth Rate'], alternative='two-sided')\n",
    "print(\"With {} degrees of freedom, the computed P-value is: {}\".format(df, p_value))"
   ]
  },
  {
   "cell_type": "markdown",
   "metadata": {},
   "source": [
    "The p-value associated with the hypothesis test above tells us that there is not sufficient evidence to reject the null hypothesis with $\\alpha=.01$.  In context of our analysis, this means that there is not enough evidence to confidently say that there is a significant difference between the true mean birth rate for Blacks between the ages of 20 and 24 and the true mean birth rate for Hispanics between the ages of 20 and 24.  Let's perform the same test for the 25-29 age range."
   ]
  },
  {
   "cell_type": "markdown",
   "metadata": {},
   "source": [
    "$$ H_0: \\mu_0 - \\mu_1 = \\Delta_0 = 0 $$\n",
    "$$H_a: \\mu_0 - \\mu_1 \\neq \\Delta_0 = 0$$\n",
    "<center>$\\mu_0$ is the Black true mean birth rate in the 25-29 age range</center>\n",
    "<center>$\\mu_1$ is the Hispanic true mean birth rate of the 25-29 age range</center>"
   ]
  },
  {
   "cell_type": "code",
   "execution_count": 58,
   "metadata": {},
   "outputs": [
    {
     "name": "stdout",
     "output_type": "stream",
     "text": [
      "With 60.0 degrees of freedom, the computed P-value is: 4.527702283647382e-20\n"
     ]
    }
   ],
   "source": [
    "# extract data for each race\n",
    "black_birth_rates = birth_rates[birth_rates['Age Range'] == '25-29']\n",
    "black_birth_rates = black_birth_rates[black_birth_rates['Race/Origin']=='Black']\n",
    "\n",
    "hispanic_birth_rates = birth_rates[birth_rates['Age Range'] == '25-29']\n",
    "hispanic_birth_rates = hispanic_birth_rates[hispanic_birth_rates['Race/Origin']=='Hispanic']\n",
    "\n",
    "_, p_value, df = ttest_ind(black_birth_rates['Birth Rate'], hispanic_birth_rates['Birth Rate'], alternative='two-sided')\n",
    "print(\"With {} degrees of freedom, the computed P-value is: {}\".format(df, p_value))"
   ]
  },
  {
   "cell_type": "markdown",
   "metadata": {},
   "source": [
    "Unlike the p-value associated with the 20-24 age range, the p-value for the 25-29 is less than our significance level of $\\alpha=.01$. Therefore, we have significant evidence to reject the null hypothesis in favor of the alternate.  In context of our analysis, there is sufficient evidence that there exists a difference between the true mean birth rate for the 25-29 age range for the two samples.  "
   ]
  },
  {
   "cell_type": "markdown",
   "metadata": {},
   "source": [
    "## <a id=\"conclusion\">Insights</a>\n",
    "After performing a thorough analysis on the _CDC's_ data on _Birth Rates for Unmarried Women_, we have come to observe many interesting trends. First off, both age and race seem to be performing a role in birth rate over time.  More specifically, there exists statistically significant evidence that there are differences between the birth rates of different age ranges and different races.  The use of the powerful tools implemented in this notebook can help us to understand the changes throughout the world in order to uncover new questions and the answers to them.  With more information, such as financial status or geographic location, we could learn more about these birth rates and the reasons why some groups' rates are lower or higher than others. Finally, I would like to thank Professor Dickerson, Professor Deshpande, and all of the TAs for making this a rigorous and informative semester as well as arming me with the skills the further explore Data Science and its applications.  "
   ]
  },
  {
   "cell_type": "code",
   "execution_count": null,
   "metadata": {
    "collapsed": true
   },
   "outputs": [],
   "source": []
  }
 ],
 "metadata": {
  "kernelspec": {
   "display_name": "Python 3",
   "language": "python",
   "name": "python3"
  },
  "language_info": {
   "codemirror_mode": {
    "name": "ipython",
    "version": 3
   },
   "file_extension": ".py",
   "mimetype": "text/x-python",
   "name": "python",
   "nbconvert_exporter": "python",
   "pygments_lexer": "ipython3",
   "version": "3.6.2"
  }
 },
 "nbformat": 4,
 "nbformat_minor": 2
}
